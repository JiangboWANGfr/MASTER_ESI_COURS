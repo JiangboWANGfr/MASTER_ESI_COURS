{
  "nbformat": 4,
  "nbformat_minor": 0,
  "metadata": {
    "colab": {
      "provenance": [],
      "toc_visible": true
    },
    "kernelspec": {
      "name": "python3",
      "display_name": "Python 3"
    },
    "language_info": {
      "name": "python"
    }
  },
  "cells": [
    {
      "cell_type": "code",
      "execution_count": null,
      "metadata": {
        "id": "qrzMfPK9do8y"
      },
      "outputs": [],
      "source": [
        "import tensorflow as tf"
      ]
    },
    {
      "cell_type": "markdown",
      "source": [
        "## Question1"
      ],
      "metadata": {
        "id": "goCrfvtMjpnS"
      }
    },
    {
      "cell_type": "code",
      "source": [
        "a = tf.constant(8)\n",
        "b = tf.constant(5)\n",
        "print(a)\n",
        "print(b)"
      ],
      "metadata": {
        "colab": {
          "base_uri": "https://localhost:8080/"
        },
        "id": "DR0hP49ZisXn",
        "outputId": "e71bbfff-05e5-4692-d7ec-996f5a27521a"
      },
      "execution_count": null,
      "outputs": [
        {
          "output_type": "stream",
          "name": "stdout",
          "text": [
            "tf.Tensor(8, shape=(), dtype=int32)\n",
            "tf.Tensor(5, shape=(), dtype=int32)\n"
          ]
        }
      ]
    },
    {
      "cell_type": "markdown",
      "source": [
        "## Question2"
      ],
      "metadata": {
        "id": "OcMkDpfEjvmg"
      }
    },
    {
      "cell_type": "code",
      "source": [
        "X = tf.constant([1.0, 2.0, 3.0])\n",
        "Y = tf.constant([4.0, 5.0, 6.0])\n",
        "print(X)\n",
        "print(Y)"
      ],
      "metadata": {
        "colab": {
          "base_uri": "https://localhost:8080/"
        },
        "id": "JUErpP8GjvJV",
        "outputId": "34ffc3d5-45cb-4f98-ffdd-7f49692c35c2"
      },
      "execution_count": null,
      "outputs": [
        {
          "output_type": "stream",
          "name": "stdout",
          "text": [
            "tf.Tensor([1. 2. 3.], shape=(3,), dtype=float32)\n",
            "tf.Tensor([4. 5. 6.], shape=(3,), dtype=float32)\n"
          ]
        }
      ]
    },
    {
      "cell_type": "code",
      "source": [
        "A = tf.constant([[1.0, 2.0],[4.0, 5.0]])\n",
        "B = tf.constant([[3.0, 4.0],[6.0, 7.0]])\n",
        "print(A)\n",
        "print(B)"
      ],
      "metadata": {
        "colab": {
          "base_uri": "https://localhost:8080/"
        },
        "id": "QD5W4VTgiytz",
        "outputId": "25e6f22e-1b1a-40d7-84f7-543538481a22"
      },
      "execution_count": null,
      "outputs": [
        {
          "output_type": "stream",
          "name": "stdout",
          "text": [
            "tf.Tensor(\n",
            "[[1. 2.]\n",
            " [4. 5.]], shape=(2, 2), dtype=float32)\n",
            "tf.Tensor(\n",
            "[[3. 4.]\n",
            " [6. 7.]], shape=(2, 2), dtype=float32)\n"
          ]
        }
      ]
    },
    {
      "cell_type": "code",
      "source": [
        "# three_dimensional_tensor1 = tf.random.normal([3, 2, 5])\n",
        "three_dim = tf.ones([3, 2, 5])\n",
        "print(three_dim)\n",
        "print(\"dimension {}, ndim {}\".format(three_dim.shape,three_dim.ndim))"
      ],
      "metadata": {
        "colab": {
          "base_uri": "https://localhost:8080/"
        },
        "id": "P5kLahdqi6F6",
        "outputId": "a293b032-e3a5-4ed4-edb0-c36176af9693"
      },
      "execution_count": null,
      "outputs": [
        {
          "output_type": "stream",
          "name": "stdout",
          "text": [
            "tf.Tensor(\n",
            "[[[1. 1. 1. 1. 1.]\n",
            "  [1. 1. 1. 1. 1.]]\n",
            "\n",
            " [[1. 1. 1. 1. 1.]\n",
            "  [1. 1. 1. 1. 1.]]\n",
            "\n",
            " [[1. 1. 1. 1. 1.]\n",
            "  [1. 1. 1. 1. 1.]]], shape=(3, 2, 5), dtype=float32)\n",
            "dimension (3, 2, 5), ndim 3\n"
          ]
        }
      ]
    },
    {
      "cell_type": "code",
      "source": [
        "%four_dimensional_tensor = tf.zeros([4, 3, 6, 3])\n",
        "# print(four_dimensional_tensor)"
      ],
      "metadata": {
        "id": "rQksfKRrlp3V"
      },
      "execution_count": null,
      "outputs": []
    },
    {
      "cell_type": "markdown",
      "source": [
        "## Question3"
      ],
      "metadata": {
        "id": "vvpMaQdDmAkP"
      }
    },
    {
      "cell_type": "code",
      "source": [
        "print(\"X: \",X)\n",
        "print(\"Y: \",Y)\n",
        "addXY = tf.add(X,Y)\n",
        "subtractXY = tf.subtract(X,Y)\n",
        "multiplyXY = tf.multiply(X,Y)\n",
        "divideXY = tf.divide(X,Y)\n",
        "print(\"X+Y = \",addXY)\n",
        "print(\"X-Y = \",subtractXY)\n",
        "print(\"X*Y = \",multiplyXY)\n",
        "print(\"X/Y = \",divideXY)\n"
      ],
      "metadata": {
        "colab": {
          "base_uri": "https://localhost:8080/"
        },
        "id": "vX23MR4ll2iE",
        "outputId": "632a129d-7dec-4cb3-bb81-733bb8e118ec"
      },
      "execution_count": null,
      "outputs": [
        {
          "output_type": "stream",
          "name": "stdout",
          "text": [
            "X:  tf.Tensor([1. 2. 3.], shape=(3,), dtype=float32)\n",
            "Y:  tf.Tensor([4. 5. 6.], shape=(3,), dtype=float32)\n",
            "X+Y =  tf.Tensor([5. 7. 9.], shape=(3,), dtype=float32)\n",
            "X-Y =  tf.Tensor([-3. -3. -3.], shape=(3,), dtype=float32)\n",
            "X*Y =  tf.Tensor([ 4. 10. 18.], shape=(3,), dtype=float32)\n",
            "X/Y =  tf.Tensor([0.25 0.4  0.5 ], shape=(3,), dtype=float32)\n"
          ]
        }
      ]
    },
    {
      "cell_type": "markdown",
      "source": [
        "## Question4"
      ],
      "metadata": {
        "id": "ZQJsNjfenmHB"
      }
    },
    {
      "cell_type": "code",
      "source": [
        "print(\"My three_dim shape: \",three_dim)\n",
        "three_dim_reshape10_3 = tf.reshape(three_dim,[10,3])\n",
        "print(\"My three_dim_reshape10_3: \",three_dim_reshape10_3)\n",
        "three_dim_reshape2_15 = tf.reshape(three_dim,[2,15])\n",
        "print(\"My three_dim_reshape2_15: \",three_dim_reshape2_15)\n",
        "three_dim_reshape6_1 = tf.reshape(three_dim,[6,-1])\n",
        "print(\"My three_dim_reshape6_1: \",three_dim_reshape6_1)\n"
      ],
      "metadata": {
        "colab": {
          "base_uri": "https://localhost:8080/"
        },
        "id": "rx1uTmzBnhRn",
        "outputId": "0329f109-0857-4ffa-a947-de9e192e69ce"
      },
      "execution_count": null,
      "outputs": [
        {
          "output_type": "stream",
          "name": "stdout",
          "text": [
            "My three_dim shape:  tf.Tensor(\n",
            "[[[1. 1. 1. 1. 1.]\n",
            "  [1. 1. 1. 1. 1.]]\n",
            "\n",
            " [[1. 1. 1. 1. 1.]\n",
            "  [1. 1. 1. 1. 1.]]\n",
            "\n",
            " [[1. 1. 1. 1. 1.]\n",
            "  [1. 1. 1. 1. 1.]]], shape=(3, 2, 5), dtype=float32)\n",
            "My three_dim_reshape10_3:  tf.Tensor(\n",
            "[[1. 1. 1.]\n",
            " [1. 1. 1.]\n",
            " [1. 1. 1.]\n",
            " [1. 1. 1.]\n",
            " [1. 1. 1.]\n",
            " [1. 1. 1.]\n",
            " [1. 1. 1.]\n",
            " [1. 1. 1.]\n",
            " [1. 1. 1.]\n",
            " [1. 1. 1.]], shape=(10, 3), dtype=float32)\n",
            "My three_dim_reshape2_15:  tf.Tensor(\n",
            "[[1. 1. 1. 1. 1. 1. 1. 1. 1. 1. 1. 1. 1. 1. 1.]\n",
            " [1. 1. 1. 1. 1. 1. 1. 1. 1. 1. 1. 1. 1. 1. 1.]], shape=(2, 15), dtype=float32)\n",
            "My three_dim_reshape6_1:  tf.Tensor(\n",
            "[[1. 1. 1. 1. 1.]\n",
            " [1. 1. 1. 1. 1.]\n",
            " [1. 1. 1. 1. 1.]\n",
            " [1. 1. 1. 1. 1.]\n",
            " [1. 1. 1. 1. 1.]\n",
            " [1. 1. 1. 1. 1.]], shape=(6, 5), dtype=float32)\n"
          ]
        }
      ]
    },
    {
      "cell_type": "markdown",
      "source": [
        "#Question5"
      ],
      "metadata": {
        "id": "Wrww5FV-pI9k"
      }
    },
    {
      "cell_type": "code",
      "source": [
        "# Variables can be all kinds of types, just like tensors\n",
        "bool_variable = tf.Variable([False, False, False, True])\n",
        "complex_variable = tf.Variable([5 + 4j, 6 + 1j])\n",
        "print(\"bool_variable\",bool_variable)\n",
        "print(\"complex_variable\",complex_variable)\n"
      ],
      "metadata": {
        "colab": {
          "base_uri": "https://localhost:8080/"
        },
        "id": "StpX96fon97b",
        "outputId": "9b5783c7-273d-41d4-e837-ac8f7e2cb19a"
      },
      "execution_count": null,
      "outputs": [
        {
          "output_type": "stream",
          "name": "stdout",
          "text": [
            "bool_variable <tf.Variable 'Variable:0' shape=(4,) dtype=bool, numpy=array([False, False, False,  True])>\n",
            "complex_variable <tf.Variable 'Variable:0' shape=(2,) dtype=complex128, numpy=array([5.+4.j, 6.+1.j])>\n"
          ]
        }
      ]
    },
    {
      "cell_type": "markdown",
      "source": [
        "## Question6"
      ],
      "metadata": {
        "id": "LfRdop2PqOsI"
      }
    },
    {
      "cell_type": "code",
      "source": [
        "@tf.function\n",
        "def my_function(a,b):\n",
        "  c = tf.add(a,b)\n",
        "  return c\n",
        "\n",
        "print(\"add two constant: \",my_function(a,b))\n",
        "print(\"add two constant: \",my_function(X,Y))\n"
      ],
      "metadata": {
        "colab": {
          "base_uri": "https://localhost:8080/"
        },
        "id": "cQIDiFC1pRta",
        "outputId": "a82789a5-2d9d-4ba1-ed17-d69ef7044b44"
      },
      "execution_count": null,
      "outputs": [
        {
          "output_type": "stream",
          "name": "stdout",
          "text": [
            "add two constant:  tf.Tensor(13, shape=(), dtype=int32)\n",
            "add two constant:  tf.Tensor([5. 7. 9.], shape=(3,), dtype=float32)\n"
          ]
        }
      ]
    },
    {
      "cell_type": "code",
      "source": [
        "\n",
        "def my_function1(a,b):\n",
        "  c = tf.add(a,b)\n",
        "  return c\n",
        "print(\"add two constant: \",my_function1(a,b))\n",
        "print(\"add two constant: \",my_function1(X,Y))"
      ],
      "metadata": {
        "colab": {
          "base_uri": "https://localhost:8080/"
        },
        "id": "tQe4nDhorAQ4",
        "outputId": "f38fc8ac-fd4b-466f-be0d-b38297f22eb0"
      },
      "execution_count": null,
      "outputs": [
        {
          "output_type": "stream",
          "name": "stdout",
          "text": [
            "add two constant:  tf.Tensor(13, shape=(), dtype=int32)\n",
            "add two constant:  tf.Tensor([5. 7. 9.], shape=(3,), dtype=float32)\n"
          ]
        }
      ]
    },
    {
      "cell_type": "markdown",
      "source": [
        "# 2 TPU Performance"
      ],
      "metadata": {
        "id": "hIE9zvZXr9y8"
      }
    },
    {
      "cell_type": "code",
      "source": [
        "import matplotlib.pyplot as plt\n",
        "import numpy as np\n",
        "\n",
        "# Data\n",
        "devices = [\"CPU\", \"GPU\", \"TPU\"]\n",
        "training_time = [804.77, 74.047, 17.82]  # in seconds\n",
        "testing_time = [5.41, 2.853, 1.002]  # in seconds\n",
        "final_loss = [0.0043, 0.0034, 0.0016]\n",
        "accuracy = [0.9987, 0.9947, 0.9937]\n",
        "\n",
        "\n",
        "def add_value_labels(ax, spacing=5):\n",
        "    \"\"\"\n",
        "    Add labels to the end of each bar in a bar chart.\n",
        "\n",
        "    Arguments:\n",
        "    ax -- matplotlib axes object\n",
        "    spacing -- distance between the label and the bar\n",
        "    \"\"\"\n",
        "    for rect in ax.patches:\n",
        "        y_value = rect.get_height()\n",
        "        x_value = rect.get_x() + rect.get_width() / 2\n",
        "\n",
        "        # Number of points between bar and label\n",
        "        space = spacing\n",
        "        va = 'bottom'\n",
        "\n",
        "        # If value of bar is negative: place label below bar\n",
        "        if y_value < 0:\n",
        "            space *= -1\n",
        "            va = 'top'\n",
        "\n",
        "        # Use y value as label and format number with one decimal place\n",
        "        label = \"{:.3f}\".format(y_value)\n",
        "\n",
        "        # Create annotation\n",
        "        ax.annotate(\n",
        "            label,                      # Use `label` as label\n",
        "            (x_value, y_value),         # Place label at end of the bar\n",
        "            xytext=(0, space),          # Vertically shift label by `space`\n",
        "            textcoords=\"offset points\", # Interpret `xytext` as offset in points\n",
        "            ha='center',                # Horizontally center label\n",
        "            va=va)                      # Vertically align label differently for\n",
        "                                        # positive and negative values.\n",
        "\n",
        "# Creating subplots with value labels\n",
        "fig, axs = plt.subplots(2, 2, figsize=(12, 8))\n",
        "\n",
        "# Bar plots with value labels\n",
        "axs[0, 0].bar(devices, training_time, color='skyblue')\n",
        "axs[0, 0].set_title('Training Time (s)')\n",
        "axs[0, 0].set_ylabel('Seconds')\n",
        "add_value_labels(axs[0, 0])\n",
        "\n",
        "axs[0, 1].bar(devices, testing_time, color='lightgreen')\n",
        "axs[0, 1].set_title('Testing Time (s)')\n",
        "axs[0, 1].set_ylabel('Seconds')\n",
        "add_value_labels(axs[0, 1])\n",
        "\n",
        "axs[1, 0].bar(devices, final_loss, color='salmon')\n",
        "axs[1, 0].set_title('Final Loss')\n",
        "axs[1, 0].set_ylabel('Loss Value')\n",
        "add_value_labels(axs[1, 0])\n",
        "\n",
        "axs[1, 1].bar(devices, accuracy, color='lightcoral')\n",
        "axs[1, 1].set_title('Accuracy')\n",
        "axs[1, 1].set_ylabel('Accuracy Value')\n",
        "axs[1, 1].set_ylim([0.99, 1])\n",
        "add_value_labels(axs[1, 1])\n",
        "\n",
        "# Adjust layout\n",
        "plt.tight_layout()\n",
        "\n",
        "# Show plot\n",
        "plt.show()"
      ],
      "metadata": {
        "colab": {
          "base_uri": "https://localhost:8080/",
          "height": 807
        },
        "id": "u4VJ84FZi9A5",
        "outputId": "d355974d-5a41-4013-976f-be9d0043fcca"
      },
      "execution_count": 1,
      "outputs": [
        {
          "output_type": "display_data",
          "data": {
            "text/plain": [
              "<Figure size 1200x800 with 4 Axes>"
            ],
            "image/png": "[encoded data removed]"
          },
          "metadata": {}
        }
      ]
    }
  ]
}